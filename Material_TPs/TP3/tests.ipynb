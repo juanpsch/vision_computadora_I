{
 "cells": [
  {
   "cell_type": "code",
   "execution_count": 3,
   "metadata": {},
   "outputs": [],
   "source": [
    "%matplotlib qt\n",
    "\n",
    "import numpy as np\n",
    "import cv2 as cv\n",
    "import matplotlib.pyplot as plt"
   ]
  },
  {
   "cell_type": "code",
   "execution_count": 48,
   "metadata": {},
   "outputs": [],
   "source": [
    "imagen = 'images/coca_logo_2.png'\n",
    "img = cv.imread(imagen)\n",
    "\n",
    "k_blur_median = 7\n",
    "k_blur_gaus = 5\n",
    "sigma_blur = 3\n",
    "\n",
    "img_gray   = cv.cvtColor(img, cv.COLOR_BGR2GRAY)\n",
    "# aplico Desenfoque a la imagen escalada\n",
    "\n",
    "# image2match = cv.medianBlur(img, ksize=k_blur_median)\n",
    "# image2match = cv.GaussianBlur(image2match, ksize=(k_blur_gaus,k_blur_gaus), sigmaX=sigma_blur, sigmaY=sigma_blur)\n",
    "\n",
    "pyr0 = img_gray\n",
    "pyr1 = cv.pyrDown(pyr0)\n",
    "exp0 = cv.pyrUp(pyr1)\n",
    "# lap0 = pyr0 - exp0\n",
    "\n",
    "# aplico Canny a la imagen escalada y a template\n",
    "pyr0 = cv.Canny(pyr0, threshold1=5, threshold2=200)\n",
    "pyr1 = cv.Canny(pyr1, threshold1=5, threshold2=200)\n",
    "exp0 = cv.Canny(exp0, threshold1=5, threshold2=200)\n",
    "# lap0 = cv.Canny(lap0, threshold1=5, threshold2=200)\n",
    "\n",
    "\n",
    "# cv.imshow('original', img)\n",
    "# cv.imshow('gray', img_gray)\n",
    "\n",
    "cv.imshow('p0', pyr0)\n",
    "cv.imshow('p1', pyr1)\n",
    "cv.imshow('e0', exp0)\n",
    "# cv.imshow('l0', lap0)\n",
    "\n",
    "cv.waitKey()\n",
    "cv.destroyAllWindows()"
   ]
  }
 ],
 "metadata": {
  "kernelspec": {
   "display_name": "cv1",
   "language": "python",
   "name": "python3"
  },
  "language_info": {
   "codemirror_mode": {
    "name": "ipython",
    "version": 3
   },
   "file_extension": ".py",
   "mimetype": "text/x-python",
   "name": "python",
   "nbconvert_exporter": "python",
   "pygments_lexer": "ipython3",
   "version": "3.12.2"
  }
 },
 "nbformat": 4,
 "nbformat_minor": 2
}
