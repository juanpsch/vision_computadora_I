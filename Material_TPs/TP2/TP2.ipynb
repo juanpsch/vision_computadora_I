{
 "cells": [
  {
   "cell_type": "markdown",
   "metadata": {},
   "source": [
    "Implementar la función create_gauss_filter(h, w, k_size, sigma) para crear filtros gaussianos para \n",
    "filtrado espectral. Debe retornar un filtro gaussiano de tamaño HxW en dominio espacial y su transformada \n",
    "de Fourier.\n",
    "\n",
    "1. Graficar ambas representaciones para diferentes tamaños de kernel y sigma. Aplicar el filtro una \n",
    "imagen para validar el funcionamiento en el dominio espectral. \n",
    "2. Usando el método descripto en el paper “Image Sharpness Measure for Blurred Images in Frequency \n",
    "Domain” comparar el resultado de un filtrado por convolución con el filtrado espectral.\n",
    "3. Repetir la comparación usando uno de los métodos descriptos en el apéndice del paper “Analysis of \n",
    "focus measure operators in shape-from-focus”"
   ]
  },
  {
   "cell_type": "code",
   "execution_count": 1,
   "metadata": {},
   "outputs": [
    {
     "name": "stdout",
     "output_type": "stream",
     "text": [
      "Using matplotlib backend: <object object at 0x000001F02ECC7540>\n"
     ]
    }
   ],
   "source": [
    "%matplotlib\n",
    "\n",
    "import numpy as np\n",
    "import cv2 as cv\n",
    "import matplotlib.pyplot as plt"
   ]
  },
  {
   "cell_type": "code",
   "execution_count": 2,
   "metadata": {},
   "outputs": [],
   "source": [
    "def create_gauss_filter(h, w, k_size, sigma):\n",
    "    '''\n",
    "    ¿¿¿Devuelve una imagen filtrada mediante filtro\n",
    "    gaussiano espectral???\n",
    "    O devuelve el filtro?\n",
    "    No se bien que devuelve\n",
    "    -------------------------------------------------------\n",
    "    Parámetros:\n",
    "    param h: alto de la imagen\n",
    "    param w: ancho de la imagen\n",
    "    param k_size: Tamaño del núcleo, positivo impar (3,5,...)\n",
    "    param sigma:  Desvío estándar de la Gaussiana. Si no es positivo, se calcula como sigma = 0.3*((ksize-1)*0.5 - 1) + 0.8 \n",
    "    '''\n",
    "    kernel_1d = cv.getGaussianKernel(ksize=k_size, sigma=sigma) \n",
    "    kernel_2d = kernel_1d * kernel_1d.T\n",
    "\n",
    "    filter = kernel_2d\n",
    "\n",
    "    return filter\n"
   ]
  },
  {
   "cell_type": "code",
   "execution_count": 4,
   "metadata": {},
   "outputs": [
    {
     "data": {
      "text/plain": [
       "array([[0.07511361, 0.1238414 , 0.07511361],\n",
       "       [0.1238414 , 0.20417996, 0.1238414 ],\n",
       "       [0.07511361, 0.1238414 , 0.07511361]])"
      ]
     },
     "execution_count": 4,
     "metadata": {},
     "output_type": "execute_result"
    }
   ],
   "source": [
    "\n",
    "create_gauss_filter(10,10,3,1)"
   ]
  }
 ],
 "metadata": {
  "kernelspec": {
   "display_name": "cv1",
   "language": "python",
   "name": "python3"
  },
  "language_info": {
   "codemirror_mode": {
    "name": "ipython",
    "version": 3
   },
   "file_extension": ".py",
   "mimetype": "text/x-python",
   "name": "python",
   "nbconvert_exporter": "python",
   "pygments_lexer": "ipython3",
   "version": "3.12.2"
  }
 },
 "nbformat": 4,
 "nbformat_minor": 2
}
